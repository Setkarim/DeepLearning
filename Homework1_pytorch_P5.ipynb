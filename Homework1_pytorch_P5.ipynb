{
  "nbformat": 4,
  "nbformat_minor": 0,
  "metadata": {
    "colab": {
      "provenance": [],
      "authorship_tag": "ABX9TyNiEmEDIVnjHuL5TbTU1ZgD",
      "include_colab_link": true
    },
    "kernelspec": {
      "name": "python3",
      "display_name": "Python 3"
    },
    "language_info": {
      "name": "python"
    }
  },
  "cells": [
    {
      "cell_type": "markdown",
      "metadata": {
        "id": "view-in-github",
        "colab_type": "text"
      },
      "source": [
        "<a href=\"https://colab.research.google.com/github/Setkarim/DeepLearning/blob/main/Homework1_pytorch_P5.ipynb\" target=\"_parent\"><img src=\"https://colab.research.google.com/assets/colab-badge.svg\" alt=\"Open In Colab\"/></a>"
      ]
    },
    {
      "cell_type": "markdown",
      "source": [
        "Problem1_download dataset"
      ],
      "metadata": {
        "id": "Asz7yQriEm7J"
      }
    },
    {
      "cell_type": "code",
      "execution_count": null,
      "metadata": {
        "colab": {
          "base_uri": "https://localhost:8080/"
        },
        "id": "yvicZ9yvEcO3",
        "outputId": "827ff396-bcd1-4c16-a365-22529fdf4801"
      },
      "outputs": [
        {
          "output_type": "stream",
          "name": "stdout",
          "text": [
            "Feature matrix shape (X): (569, 30)\n",
            "Label vector shape (y): (569,)\n",
            "\n",
            "First 5 samples:\n",
            "[[1.799e+01 1.038e+01 1.228e+02 1.001e+03 1.184e-01 2.776e-01 3.001e-01\n",
            "  1.471e-01 2.419e-01 7.871e-02 1.095e+00 9.053e-01 8.589e+00 1.534e+02\n",
            "  6.399e-03 4.904e-02 5.373e-02 1.587e-02 3.003e-02 6.193e-03 2.538e+01\n",
            "  1.733e+01 1.846e+02 2.019e+03 1.622e-01 6.656e-01 7.119e-01 2.654e-01\n",
            "  4.601e-01 1.189e-01]\n",
            " [2.057e+01 1.777e+01 1.329e+02 1.326e+03 8.474e-02 7.864e-02 8.690e-02\n",
            "  7.017e-02 1.812e-01 5.667e-02 5.435e-01 7.339e-01 3.398e+00 7.408e+01\n",
            "  5.225e-03 1.308e-02 1.860e-02 1.340e-02 1.389e-02 3.532e-03 2.499e+01\n",
            "  2.341e+01 1.588e+02 1.956e+03 1.238e-01 1.866e-01 2.416e-01 1.860e-01\n",
            "  2.750e-01 8.902e-02]\n",
            " [1.969e+01 2.125e+01 1.300e+02 1.203e+03 1.096e-01 1.599e-01 1.974e-01\n",
            "  1.279e-01 2.069e-01 5.999e-02 7.456e-01 7.869e-01 4.585e+00 9.403e+01\n",
            "  6.150e-03 4.006e-02 3.832e-02 2.058e-02 2.250e-02 4.571e-03 2.357e+01\n",
            "  2.553e+01 1.525e+02 1.709e+03 1.444e-01 4.245e-01 4.504e-01 2.430e-01\n",
            "  3.613e-01 8.758e-02]\n",
            " [1.142e+01 2.038e+01 7.758e+01 3.861e+02 1.425e-01 2.839e-01 2.414e-01\n",
            "  1.052e-01 2.597e-01 9.744e-02 4.956e-01 1.156e+00 3.445e+00 2.723e+01\n",
            "  9.110e-03 7.458e-02 5.661e-02 1.867e-02 5.963e-02 9.208e-03 1.491e+01\n",
            "  2.650e+01 9.887e+01 5.677e+02 2.098e-01 8.663e-01 6.869e-01 2.575e-01\n",
            "  6.638e-01 1.730e-01]\n",
            " [2.029e+01 1.434e+01 1.351e+02 1.297e+03 1.003e-01 1.328e-01 1.980e-01\n",
            "  1.043e-01 1.809e-01 5.883e-02 7.572e-01 7.813e-01 5.438e+00 9.444e+01\n",
            "  1.149e-02 2.461e-02 5.688e-02 1.885e-02 1.756e-02 5.115e-03 2.254e+01\n",
            "  1.667e+01 1.522e+02 1.575e+03 1.374e-01 2.050e-01 4.000e-01 1.625e-01\n",
            "  2.364e-01 7.678e-02]]\n",
            "\n",
            "Corresponding labels (first 5 samples):\n",
            "[0 0 0 0 0]\n"
          ]
        }
      ],
      "source": [
        "# Import necessary library\n",
        "from sklearn.datasets import load_breast_cancer\n",
        "\n",
        "# Load dataset\n",
        "data = load_breast_cancer()\n",
        "\n",
        "# Separate features (X) and labels (y)\n",
        "x = data.data  # Feature matrix (569 samples × 30 features)\n",
        "y = data.target  # Label vector (569 × 1)\n",
        "\n",
        "# Display basic info\n",
        "print(f\"Feature matrix shape (X): {x.shape}\")\n",
        "print(f\"Label vector shape (y): {y.shape}\")\n",
        "print(f\"\\nFirst 5 samples:\")\n",
        "print(x[:5])\n",
        "print(f\"\\nCorresponding labels (first 5 samples):\")\n",
        "print(y[:5])"
      ]
    },
    {
      "cell_type": "code",
      "source": [
        "import numpy as np\n",
        "\n",
        "# Count samples in each class\n",
        "num_malignant = np.sum(y == 0)  # Malignant (Class 0)\n",
        "num_benign = np.sum(y == 1)    # Benign (Class 1)\n",
        "total_samples = len(y)         # Total number of samples\n",
        "\n",
        "# Calculate percentages\n",
        "percent_malignant = (num_malignant / total_samples) * 100\n",
        "percent_benign = (num_benign / total_samples) * 100\n",
        "\n",
        "# Display class distribution\n",
        "print(\"Class Distribution in Breast Cancer Dataset:\")\n",
        "print(f\"- Malignant samples: {num_malignant} ({percent_malignant:.1f}%)\")\n",
        "print(f\"- Benign samples: {num_benign} ({percent_benign:.1f}%)\")\n",
        "print(f\"- Total samples: {total_samples}\")"
      ],
      "metadata": {
        "colab": {
          "base_uri": "https://localhost:8080/"
        },
        "id": "gzt6OUMBEmUQ",
        "outputId": "ebde4de9-9a1c-4ebc-adc8-26460b00725b"
      },
      "execution_count": null,
      "outputs": [
        {
          "output_type": "stream",
          "name": "stdout",
          "text": [
            "Class Distribution in Breast Cancer Dataset:\n",
            "- Malignant samples: 212 (37.3%)\n",
            "- Benign samples: 357 (62.7%)\n",
            "- Total samples: 569\n"
          ]
        }
      ]
    },
    {
      "cell_type": "code",
      "source": [
        "from sklearn.model_selection import train_test_split\n",
        "from sklearn.preprocessing import StandardScaler\n",
        "import matplotlib.pyplot as plt\n",
        "\n",
        "# Data Preparation\n",
        "# Split data into training and test sets\n",
        "x_train, x_test, y_train, y_test = train_test_split(x,y)\n",
        "# Standardize features by removing mean and scaling to unit variance\n",
        "scaler = StandardScaler()\n",
        "x_train = scaler.fit_transform(x_train)\n",
        "x_test = scaler.transform(x_test)"
      ],
      "metadata": {
        "id": "J9gG-yogEth-"
      },
      "execution_count": null,
      "outputs": []
    },
    {
      "cell_type": "code",
      "source": [
        "x_train.shape[1]"
      ],
      "metadata": {
        "colab": {
          "base_uri": "https://localhost:8080/"
        },
        "id": "v_TrV5DaEt-3",
        "outputId": "bb4e8805-9f1c-44c4-f034-f95637d116c6"
      },
      "execution_count": null,
      "outputs": [
        {
          "output_type": "execute_result",
          "data": {
            "text/plain": [
              "30"
            ]
          },
          "metadata": {},
          "execution_count": 4
        }
      ]
    },
    {
      "cell_type": "code",
      "source": [
        "import torch\n",
        "import torch.nn as nn\n",
        "import torch.optim as optim\n",
        "from torch.utils.data import DataLoader, TensorDataset\n",
        "# convert data to tensor\n",
        "x_train_tensor = torch.FloatTensor(x_train)\n",
        "y_train_tensor = torch.FloatTensor(y_train).reshape(-1, 1)\n",
        "x_test_tensor = torch.FloatTensor(x_test)\n",
        "y_test_tensor = torch.FloatTensor(y_test).reshape(-1, 1)\n",
        "\n",
        "train_data = TensorDataset(x_train_tensor, y_train_tensor)\n",
        "train_loader = DataLoader(train_data, batch_size=32, shuffle=True)\n",
        "test_dataset = TensorDataset(x_test_tensor, y_test_tensor)\n",
        "test_loader = DataLoader(test_dataset, batch_size=32, shuffle=False)"
      ],
      "metadata": {
        "id": "YwRHHPqNEvNs"
      },
      "execution_count": null,
      "outputs": []
    },
    {
      "cell_type": "code",
      "source": [
        "class BreastCancerMLP(nn.Module):\n",
        "  def __init__(self, input_dim):\n",
        "    super().__init__()\n",
        "    self.layer1 = nn.Linear(input_dim, 64)\n",
        "    self.layer2 = nn.Linear(64 , 32)\n",
        "    self.output = nn.Linear(32,1)\n",
        "    self.relu = nn.ReLU()\n",
        "    self.sigmoid = nn.Sigmoid()\n",
        "\n",
        "  def forward(self, x):\n",
        "    x = self.relu(self.layer1(x))\n",
        "    x = self.relu(self.layer2(x))\n",
        "    x = self.sigmoid(self.output(x))\n",
        "    return x\n"
      ],
      "metadata": {
        "id": "wuPpv-3jEwyP"
      },
      "execution_count": null,
      "outputs": []
    },
    {
      "cell_type": "code",
      "source": [
        "model = BreastCancerMLP(x_train.shape[1])\n",
        "criterion = nn.MSELoss()  # ترکیب سیگموئید + Cross-Entropy با پایداری عددی بهتر\n",
        "optimizer = optim.Adam(model.parameters(), lr=0.001)\n",
        "\n",
        "epochs = 200\n",
        "train_losses = []\n",
        "val_losses = []\n",
        "train_accuracies = []\n",
        "val_accuracies = []\n",
        "\n",
        "for epoch in range(epochs):\n",
        "    # حالت آموزش\n",
        "    model.train()\n",
        "    train_loss = 0.0\n",
        "    train_correct = 0\n",
        "    train_total = 0\n",
        "\n",
        "    for inputs, labels in train_loader:\n",
        "        optimizer.zero_grad()\n",
        "\n",
        "        # پیش‌بینی مدل\n",
        "        outputs = model(inputs)\n",
        "\n",
        "        # محاسبه loss\n",
        "        loss = criterion(outputs, labels)\n",
        "\n",
        "        # پس‌انتشار و به‌روزرسانی وزن‌ها\n",
        "        loss.backward()\n",
        "        optimizer.step()\n",
        "\n",
        "        train_loss += loss.item()\n",
        "\n",
        "        # محاسبه دقت\n",
        "        predicted = (torch.sigmoid(outputs) > 0.5).float()\n",
        "        train_correct += (predicted == labels).sum().item()\n",
        "        train_total += labels.size(0)\n",
        "\n",
        "    # محاسبه میانگین loss و دقت برای دوره جاری\n",
        "    avg_train_loss = train_loss / len(train_loader)\n",
        "    train_accuracy = train_correct / train_total\n",
        "    train_losses.append(avg_train_loss)\n",
        "    train_accuracies.append(train_accuracy)\n",
        "\n",
        "    # اعتبارسنجی\n",
        "    model.eval()\n",
        "    val_loss = 0.0\n",
        "    val_correct = 0\n",
        "    val_total = 0\n",
        "\n",
        "    with torch.no_grad():\n",
        "        for inputs, labels in test_loader:\n",
        "            outputs = model(inputs)\n",
        "            loss = criterion(outputs, labels)\n",
        "            val_loss += loss.item()\n",
        "\n",
        "            predicted = (torch.sigmoid(outputs) > 0.5).float()\n",
        "            val_correct += (predicted == labels).sum().item()\n",
        "            val_total += labels.size(0)\n",
        "\n",
        "    avg_val_loss = val_loss / len(test_loader)\n",
        "    val_accuracy = val_correct / val_total\n",
        "    val_losses.append(avg_val_loss)\n",
        "    val_accuracies.append(val_accuracy)\n",
        "\n",
        "    # نمایش اطلاعات\n",
        "    if (epoch+1) % 10 == 0:\n",
        "        print(f'Epoch [{epoch+1}/{epochs}]')\n",
        "        print(f'Train Loss: {avg_train_loss:.4f}, Accuracy: {train_accuracy:.4f}')\n",
        "        print(f'Val Loss: {avg_val_loss:.4f}, Accuracy: {val_accuracy:.4f}')\n",
        "        print('-' * 50)"
      ],
      "metadata": {
        "colab": {
          "base_uri": "https://localhost:8080/"
        },
        "id": "kFbxz4Q7EyZr",
        "outputId": "2fdd7e38-6ad0-4163-be81-eace742a5198"
      },
      "execution_count": null,
      "outputs": [
        {
          "output_type": "stream",
          "name": "stdout",
          "text": [
            "Epoch [10/200]\n",
            "Train Loss: 0.0161, Accuracy: 0.6268\n",
            "Val Loss: 0.0220, Accuracy: 0.6434\n",
            "--------------------------------------------------\n",
            "Epoch [20/200]\n",
            "Train Loss: 0.0091, Accuracy: 0.6596\n",
            "Val Loss: 0.0159, Accuracy: 0.6853\n",
            "--------------------------------------------------\n",
            "Epoch [30/200]\n",
            "Train Loss: 0.0063, Accuracy: 0.6995\n",
            "Val Loss: 0.0143, Accuracy: 0.7762\n",
            "--------------------------------------------------\n",
            "Epoch [40/200]\n",
            "Train Loss: 0.0044, Accuracy: 0.7535\n",
            "Val Loss: 0.0130, Accuracy: 0.8322\n",
            "--------------------------------------------------\n",
            "Epoch [50/200]\n",
            "Train Loss: 0.0025, Accuracy: 0.7981\n",
            "Val Loss: 0.0119, Accuracy: 0.8531\n",
            "--------------------------------------------------\n",
            "Epoch [60/200]\n",
            "Train Loss: 0.0012, Accuracy: 0.8357\n",
            "Val Loss: 0.0132, Accuracy: 0.8951\n",
            "--------------------------------------------------\n",
            "Epoch [70/200]\n",
            "Train Loss: 0.0004, Accuracy: 0.8498\n",
            "Val Loss: 0.0146, Accuracy: 0.9091\n",
            "--------------------------------------------------\n",
            "Epoch [80/200]\n",
            "Train Loss: 0.0002, Accuracy: 0.8638\n",
            "Val Loss: 0.0150, Accuracy: 0.9091\n",
            "--------------------------------------------------\n",
            "Epoch [90/200]\n",
            "Train Loss: 0.0001, Accuracy: 0.8803\n",
            "Val Loss: 0.0154, Accuracy: 0.9091\n",
            "--------------------------------------------------\n",
            "Epoch [100/200]\n",
            "Train Loss: 0.0001, Accuracy: 0.8897\n",
            "Val Loss: 0.0161, Accuracy: 0.9161\n",
            "--------------------------------------------------\n",
            "Epoch [110/200]\n",
            "Train Loss: 0.0001, Accuracy: 0.8944\n",
            "Val Loss: 0.0162, Accuracy: 0.9231\n",
            "--------------------------------------------------\n",
            "Epoch [120/200]\n",
            "Train Loss: 0.0001, Accuracy: 0.8967\n",
            "Val Loss: 0.0166, Accuracy: 0.9231\n",
            "--------------------------------------------------\n",
            "Epoch [130/200]\n",
            "Train Loss: 0.0000, Accuracy: 0.8991\n",
            "Val Loss: 0.0167, Accuracy: 0.9231\n",
            "--------------------------------------------------\n",
            "Epoch [140/200]\n",
            "Train Loss: 0.0000, Accuracy: 0.9014\n",
            "Val Loss: 0.0173, Accuracy: 0.9231\n",
            "--------------------------------------------------\n",
            "Epoch [150/200]\n",
            "Train Loss: 0.0000, Accuracy: 0.9085\n",
            "Val Loss: 0.0173, Accuracy: 0.9301\n",
            "--------------------------------------------------\n",
            "Epoch [160/200]\n",
            "Train Loss: 0.0000, Accuracy: 0.9108\n",
            "Val Loss: 0.0176, Accuracy: 0.9301\n",
            "--------------------------------------------------\n",
            "Epoch [170/200]\n",
            "Train Loss: 0.0000, Accuracy: 0.9108\n",
            "Val Loss: 0.0179, Accuracy: 0.9301\n",
            "--------------------------------------------------\n",
            "Epoch [180/200]\n",
            "Train Loss: 0.0000, Accuracy: 0.9108\n",
            "Val Loss: 0.0180, Accuracy: 0.9301\n",
            "--------------------------------------------------\n",
            "Epoch [190/200]\n",
            "Train Loss: 0.0000, Accuracy: 0.9178\n",
            "Val Loss: 0.0183, Accuracy: 0.9441\n",
            "--------------------------------------------------\n",
            "Epoch [200/200]\n",
            "Train Loss: 0.0000, Accuracy: 0.9225\n",
            "Val Loss: 0.0184, Accuracy: 0.9441\n",
            "--------------------------------------------------\n"
          ]
        }
      ]
    },
    {
      "cell_type": "code",
      "source": [
        "## 4. نمایش نتایج\n",
        "# نمودارهای loss و accuracy\n",
        "plt.figure(figsize=(12, 5))\n",
        "\n",
        "plt.subplot(1, 2, 1)\n",
        "plt.plot(train_losses, label='Train Loss')\n",
        "plt.plot(val_losses, label='Validation Loss')\n",
        "plt.title('Training and Validation Loss')\n",
        "plt.xlabel('Epoch')\n",
        "plt.ylabel('Loss')\n",
        "plt.legend()\n",
        "\n",
        "plt.subplot(1, 2, 2)\n",
        "plt.plot(train_accuracies, label='Train Accuracy')\n",
        "plt.plot(val_accuracies, label='Validation Accuracy')\n",
        "plt.title('Training and Validation Accuracy')\n",
        "plt.xlabel('Epoch')\n",
        "plt.ylabel('Accuracy')\n",
        "plt.legend()\n",
        "\n",
        "plt.tight_layout()\n",
        "plt.show()\n",
        "\n",
        "# نتایج نهایی\n",
        "print('\\nFinal Results:')\n",
        "print(f'Final Training Loss: {train_losses[-1]:.4f}')\n",
        "print(f'Final Training Accuracy: {train_accuracies[-1]:.4f}')\n",
        "print(f'Final Validation Loss: {val_losses[-1]:.4f}')\n",
        "print(f'Final Validation Accuracy: {val_accuracies[-1]:.4f}')"
      ],
      "metadata": {
        "colab": {
          "base_uri": "https://localhost:8080/",
          "height": 492
        },
        "id": "lgIPV0u7E5F_",
        "outputId": "852e6d60-0b44-4c52-b0f3-eedcbbe2361d"
      },
      "execution_count": null,
      "outputs": [
        {
          "output_type": "display_data",
          "data": {
            "text/plain": [
              "<Figure size 1200x500 with 2 Axes>"
            ],
            "image/png": "[encoded data removed]"
          },
          "metadata": {}
        },
        {
          "output_type": "stream",
          "name": "stdout",
          "text": [
            "\n",
            "Final Results:\n",
            "Final Training Loss: 0.0000\n",
            "Final Training Accuracy: 0.9225\n",
            "Final Validation Loss: 0.0184\n",
            "Final Validation Accuracy: 0.9441\n"
          ]
        }
      ]
    },
    {
      "cell_type": "code",
      "source": [
        "# تعریف توابع هزینه\n",
        "loss_functions = {\n",
        "    'Cross-Entropy': nn.BCELoss(),\n",
        "    'NLL': nn.BCEWithLogitsLoss(),  # در واقع این هم Cross-Entropy است اما با پایداری عددی بهتر\n",
        "    'MSE': nn.MSELoss()\n",
        "}\n",
        "\n",
        "results = {}\n",
        "histories = {}\n",
        "\n",
        "for name, criterion in loss_functions.items():\n",
        "    print(f\"\\nTraining with {name}...\")\n",
        "\n",
        "    # Initialize model and optimizer\n",
        "    model = BreastCancerMLP(x_train.shape[1])\n",
        "    optimizer = optim.Adam(model.parameters(), lr=0.0001)\n",
        "\n",
        "    # Training loop\n",
        "    epochs = 200\n",
        "    history = {'loss': [], 'accuracy': [], 'val_loss': [], 'val_accuracy': []}\n",
        "\n",
        "    for epoch in range(epochs):\n",
        "        model.train()\n",
        "        epoch_loss = 0\n",
        "        correct = 0\n",
        "        total = 0\n",
        "\n",
        "        for inputs, labels in train_loader:\n",
        "            optimizer.zero_grad()\n",
        "            outputs = model(inputs)\n",
        "\n",
        "            # برای BCELoss نیاز به اعمال سیگموئید داریم\n",
        "            # if name == 'Cross-Entropy':\n",
        "            #     outputs = torch.sigmoid(outputs)\n",
        "\n",
        "            loss = criterion(outputs, labels)\n",
        "\n",
        "            loss.backward()\n",
        "            optimizer.step()\n",
        "\n",
        "            epoch_loss += loss.item()\n",
        "            predicted = (torch.sigmoid(outputs) > 0.5).float()\n",
        "            correct += (predicted == labels).sum().item()\n",
        "            total += labels.size(0)\n",
        "\n",
        "        # Store training metrics\n",
        "        history['loss'].append(epoch_loss/len(train_loader))\n",
        "        history['accuracy'].append(correct/total)\n",
        "\n",
        "        # Validation\n",
        "        model.eval()\n",
        "        val_loss = 0\n",
        "        val_correct = 0\n",
        "        val_total = 0\n",
        "\n",
        "        with torch.no_grad():\n",
        "            for inputs, labels in test_loader:\n",
        "                outputs = model(inputs)\n",
        "\n",
        "                # if name == 'Cross-Entropy':\n",
        "                #     outputs = torch.sigmoid(outputs)\n",
        "\n",
        "                val_loss += criterion(outputs, labels).item()\n",
        "                predicted = (torch.sigmoid(outputs) > 0.5).float()\n",
        "                val_correct += (predicted == labels).sum().item()\n",
        "                val_total += labels.size(0)\n",
        "\n",
        "        history['val_loss'].append(val_loss/len(test_loader))\n",
        "        history['val_accuracy'].append(val_correct/val_total)\n",
        "\n",
        "        if (epoch+1) % 20 == 0:\n",
        "            print(f'Epoch {epoch+1}/{epochs} - Loss: {epoch_loss/len(train_loader):.4f}, '\n",
        "                  f'Acc: {correct/total:.4f}, Val Loss: {val_loss/len(test_loader):.4f}, '\n",
        "                  f'Val Acc: {val_correct/val_total:.4f}')\n",
        "\n",
        "    histories[name] = history\n",
        "    results[name] = {\n",
        "        'final_train_acc': history['accuracy'][-1],\n",
        "        'final_val_acc': history['val_accuracy'][-1]\n",
        "    }"
      ],
      "metadata": {
        "colab": {
          "base_uri": "https://localhost:8080/"
        },
        "id": "6y5J2XLkE95Z",
        "outputId": "e9e460d3-c6e3-4488-fddc-a90bf5efde2d"
      },
      "execution_count": null,
      "outputs": [
        {
          "output_type": "stream",
          "name": "stdout",
          "text": [
            "\n",
            "Training with Cross-Entropy...\n",
            "Epoch 20/200 - Loss: 0.3300, Acc: 0.6244, Val Loss: 0.3167, Val Acc: 0.6364\n",
            "Epoch 40/200 - Loss: 0.1298, Acc: 0.6268, Val Loss: 0.1379, Val Acc: 0.6364\n",
            "Epoch 60/200 - Loss: 0.0814, Acc: 0.6268, Val Loss: 0.1028, Val Acc: 0.6434\n",
            "Epoch 80/200 - Loss: 0.0614, Acc: 0.6408, Val Loss: 0.0920, Val Acc: 0.6503\n",
            "Epoch 100/200 - Loss: 0.0515, Acc: 0.6479, Val Loss: 0.0878, Val Acc: 0.6713\n",
            "Epoch 120/200 - Loss: 0.0438, Acc: 0.6596, Val Loss: 0.0848, Val Acc: 0.6853\n",
            "Epoch 140/200 - Loss: 0.0390, Acc: 0.6690, Val Loss: 0.0831, Val Acc: 0.7063\n",
            "Epoch 160/200 - Loss: 0.0363, Acc: 0.6761, Val Loss: 0.0821, Val Acc: 0.7343\n",
            "Epoch 180/200 - Loss: 0.0304, Acc: 0.6901, Val Loss: 0.0822, Val Acc: 0.7413\n",
            "Epoch 200/200 - Loss: 0.0377, Acc: 0.7066, Val Loss: 0.0829, Val Acc: 0.7692\n",
            "\n",
            "Training with NLL...\n",
            "Epoch 20/200 - Loss: 0.5675, Acc: 0.6244, Val Loss: 0.5593, Val Acc: 0.6364\n",
            "Epoch 40/200 - Loss: 0.5057, Acc: 0.6268, Val Loss: 0.4982, Val Acc: 0.6364\n",
            "Epoch 60/200 - Loss: 0.4795, Acc: 0.6268, Val Loss: 0.4808, Val Acc: 0.6434\n",
            "Epoch 80/200 - Loss: 0.4763, Acc: 0.6408, Val Loss: 0.4743, Val Acc: 0.6503\n",
            "Epoch 100/200 - Loss: 0.4707, Acc: 0.6502, Val Loss: 0.4710, Val Acc: 0.6783\n",
            "Epoch 120/200 - Loss: 0.4667, Acc: 0.6643, Val Loss: 0.4690, Val Acc: 0.6923\n",
            "Epoch 140/200 - Loss: 0.4699, Acc: 0.6761, Val Loss: 0.4678, Val Acc: 0.7273\n",
            "Epoch 160/200 - Loss: 0.4661, Acc: 0.6925, Val Loss: 0.4672, Val Acc: 0.7413\n",
            "Epoch 180/200 - Loss: 0.4613, Acc: 0.7113, Val Loss: 0.4668, Val Acc: 0.7762\n",
            "Epoch 200/200 - Loss: 0.4607, Acc: 0.7300, Val Loss: 0.4666, Val Acc: 0.8182\n",
            "\n",
            "Training with MSE...\n",
            "Epoch 20/200 - Loss: 0.1036, Acc: 0.6244, Val Loss: 0.0993, Val Acc: 0.6364\n",
            "Epoch 40/200 - Loss: 0.0411, Acc: 0.6244, Val Loss: 0.0422, Val Acc: 0.6364\n",
            "Epoch 60/200 - Loss: 0.0246, Acc: 0.6268, Val Loss: 0.0290, Val Acc: 0.6364\n",
            "Epoch 80/200 - Loss: 0.0189, Acc: 0.6268, Val Loss: 0.0235, Val Acc: 0.6364\n",
            "Epoch 100/200 - Loss: 0.0156, Acc: 0.6268, Val Loss: 0.0207, Val Acc: 0.6434\n",
            "Epoch 120/200 - Loss: 0.0163, Acc: 0.6315, Val Loss: 0.0188, Val Acc: 0.6503\n",
            "Epoch 140/200 - Loss: 0.0121, Acc: 0.6408, Val Loss: 0.0176, Val Acc: 0.6503\n",
            "Epoch 160/200 - Loss: 0.0112, Acc: 0.6455, Val Loss: 0.0168, Val Acc: 0.6503\n",
            "Epoch 180/200 - Loss: 0.0090, Acc: 0.6502, Val Loss: 0.0160, Val Acc: 0.6713\n",
            "Epoch 200/200 - Loss: 0.0078, Acc: 0.6596, Val Loss: 0.0155, Val Acc: 0.6923\n"
          ]
        }
      ]
    },
    {
      "cell_type": "code",
      "source": [
        "import matplotlib.pyplot as plt\n",
        "\n",
        "\n",
        "print(\"\\nFinal Results:\")\n",
        "for name, res in results.items():\n",
        "    print(f\"{name}:\")\n",
        "    print(f\"  Final Training Accuracy: {res['final_train_acc']:.4f}\")\n",
        "    print(f\"  Final Validation Accuracy: {res['final_val_acc']:.4f}\")\n",
        "    print()\n",
        "\n",
        "# رسم نمودارهای loss و accuracy\n",
        "plt.figure(figsize=(12, 5))\n",
        "\n",
        "# Loss\n",
        "plt.subplot(1, 2, 1)\n",
        "for name, history in histories.items():\n",
        "    plt.plot(history['loss'], label=f'{name} Train')\n",
        "    plt.plot(history['val_loss'], '--', label=f'{name} Val')\n",
        "plt.title('Loss during Training')\n",
        "plt.xlabel('Epoch')\n",
        "plt.ylabel('Loss')\n",
        "plt.legend()\n",
        "\n",
        "# Accuracy\n",
        "plt.subplot(1, 2, 2)\n",
        "for name, history in histories.items():\n",
        "    plt.plot(history['accuracy'], label=f'{name} Train')\n",
        "    plt.plot(history['val_accuracy'], '--', label=f'{name} Val')\n",
        "plt.title('Accuracy during Training')\n",
        "plt.xlabel('Epoch')\n",
        "plt.ylabel('Accuracy')\n",
        "plt.legend()\n",
        "\n",
        "plt.tight_layout()\n",
        "plt.show()"
      ],
      "metadata": {
        "id": "Zgm368DGE_Zq"
      },
      "execution_count": null,
      "outputs": []
    }
  ]
}